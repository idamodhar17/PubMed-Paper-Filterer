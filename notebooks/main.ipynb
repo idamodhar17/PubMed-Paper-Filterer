{
 "cells": [
  {
   "cell_type": "code",
   "execution_count": 24,
   "id": "d8fb5b29-8444-4372-af75-4c5d45f92c04",
   "metadata": {},
   "outputs": [],
   "source": [
    "from Bio import Entrez\n",
    "import pandas as pd\n",
    "from time import sleep\n",
    "from datetime import datetime"
   ]
  },
  {
   "cell_type": "code",
   "execution_count": 25,
   "id": "82159ddc-dc97-48e4-92ef-ab40b2eec5b8",
   "metadata": {},
   "outputs": [],
   "source": [
    "def fetch_papers(query: str, max_results: int = 10) -> list:\n",
    "    #Fetch papers from PubMed with query\n",
    "    Entrez.email = \"zanwarpratham@gmail.com\"  # Required by PubMed API\n",
    "    try:\n",
    "        # Search PubMed\n",
    "        handle = Entrez.esearch(db=\"pubmed\", term=query, retmax=max_results)\n",
    "        search_results = Entrez.read(handle)\n",
    "        handle.close()\n",
    "\n",
    "        # Fetch details for each paper\n",
    "        id_list = search_results[\"IdList\"]\n",
    "        handle = Entrez.efetch(db=\"pubmed\", id=\",\".join(id_list), retmode=\"xml\")\n",
    "        sleep(1)\n",
    "        papers = Entrez.read(handle)\n",
    "        handle.close()\n",
    "\n",
    "        return papers[\"PubmedArticle\"]\n",
    "    except Exception as e:\n",
    "        print(f\"Error fetching papers: {e}\")\n",
    "        return []"
   ]
  },
  {
   "cell_type": "code",
   "execution_count": 35,
   "id": "b57af404-97ea-48a1-927c-ba0163eed02b",
   "metadata": {
    "scrolled": true
   },
   "outputs": [],
   "source": [
    "query = \"cancer\"\n",
    "papers = fetch_papers(query, max_results=5)\n",
    "# print(papers)"
   ]
  },
  {
   "cell_type": "code",
   "execution_count": 36,
   "id": "256e6ee1-2cd9-4d03-b17e-28a9b2a23210",
   "metadata": {},
   "outputs": [],
   "source": [
    "def filter_non_academic_authors(paper: dict) -> dict:\n",
    "    non_academic_authors = []\n",
    "    company_affiliations = []\n",
    "\n",
    "    # Extract authors and affiliations\n",
    "    authors = paper.get(\"MedlineCitation\", {}).get(\"Article\", {}).get(\"AuthorList\", [])\n",
    "    for author in authors:\n",
    "        affiliations = author.get(\"AffiliationInfo\", [])\n",
    "        for aff in affiliations:\n",
    "            affiliation = aff.get(\"Affiliation\", \"\").lower()\n",
    "            if \"pharma\" in affiliation or \"biotech\" in affiliation:\n",
    "                non_academic_authors.append(author.get(\"LastName\", \"\") + \" \" + author.get(\"ForeName\", \"\"))\n",
    "                company_affiliations.append(affiliation)\n",
    "\n",
    "    return {\n",
    "        \"non_academic_authors\": non_academic_authors,\n",
    "        \"company_affiliations\": company_affiliations,\n",
    "    }"
   ]
  },
  {
   "cell_type": "code",
   "execution_count": 42,
   "id": "89699cc7-b4c0-46e1-ad78-736192eb2d15",
   "metadata": {},
   "outputs": [],
   "source": [
    "for paper in papers:\n",
    "    filtered = filter_non_academic_authors(paper)\n",
    "    # print(filtered)"
   ]
  },
  {
   "cell_type": "code",
   "execution_count": 43,
   "id": "d2e8955a-9651-409d-8d77-2dc3c8fed088",
   "metadata": {},
   "outputs": [],
   "source": [
    "def generate_csv(papers: list, filename: str = None) -> None:\n",
    "    data = []\n",
    "    for paper in papers:\n",
    "        filtered = filter_non_academic_authors(paper)\n",
    "        if filtered[\"non_academic_authors\"]:\n",
    "            data.append({\n",
    "                \"PubmedID\": paper.get(\"MedlineCitation\", {}).get(\"PMID\", \"\"),\n",
    "                \"Title\": paper.get(\"MedlineCitation\", {}).get(\"Article\", {}).get(\"ArticleTitle\", \"\"),\n",
    "                \"Publication Date\": paper.get(\"MedlineCitation\", {}).get(\"Article\", {}).get(\"Journal\", {}).get(\"JournalIssue\", {}).get(\"PubDate\", {}).get(\"Year\", \"\"),\n",
    "                \"Non-academic Author(s)\": \", \".join(filtered[\"non_academic_authors\"]),\n",
    "                \"Company Affiliation(s)\": \", \".join(filtered[\"company_affiliations\"]),\n",
    "                \"Corresponding Author Email\": \"\"\n",
    "            })\n",
    "\n",
    "    df = pd.DataFrame(data)\n",
    "    if filename:\n",
    "        df.to_csv(filename, index=False)\n",
    "    else:\n",
    "        print(df.to_string(index=False))"
   ]
  },
  {
   "cell_type": "code",
   "execution_count": 39,
   "id": "d4f22132-4601-4bd2-b771-b2c597424046",
   "metadata": {},
   "outputs": [],
   "source": [
    "generate_csv(papers, filename=f\"pubmed_data_{datetime.now().strftime('%Y%m%d_%H%M%S')}.csv\")"
   ]
  }
 ],
 "metadata": {
  "kernelspec": {
   "display_name": "Python 3 (ipykernel)",
   "language": "python",
   "name": "python3"
  },
  "language_info": {
   "codemirror_mode": {
    "name": "ipython",
    "version": 3
   },
   "file_extension": ".py",
   "mimetype": "text/x-python",
   "name": "python",
   "nbconvert_exporter": "python",
   "pygments_lexer": "ipython3",
   "version": "3.12.7"
  }
 },
 "nbformat": 4,
 "nbformat_minor": 5
}
